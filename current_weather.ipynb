{
 "cells": [
  {
   "cell_type": "code",
   "execution_count": 32,
   "metadata": {},
   "outputs": [],
   "source": [
    "import requests"
   ]
  },
  {
   "cell_type": "code",
   "execution_count": 33,
   "metadata": {},
   "outputs": [],
   "source": [
    "api='4861b8fd373fe85474e94105365e911a'"
   ]
  },
  {
   "cell_type": "code",
   "execution_count": 34,
   "metadata": {},
   "outputs": [],
   "source": [
    "def get_loc_weather(place):\n",
    "    url = f'http://api.openweathermap.org/data/2.5/weather?q={place}&appid={api}'\n",
    "    data = requests.get(url)\n",
    "    # data = response.json()\n",
    "    description = data.json()['weather'][0]['description']\n",
    "    temperature = round(data.json()['main']['temp'])\n",
    "    feels_like = round(data.json()['main']['feels_like'])\n",
    "    high = round(data.json()['main']['temp_max'])\n",
    "    low = round(data.json()['main']['temp_min'])\n",
    "\n",
    "    print(f\"The weather in {place[0].upper()}{place[1:]} is {temperature}° C with {description}.\")\n",
    "    print(f\"It feels like {feels_like}° C.\")\n",
    "    print(f\"Today's high is {high}° C and today's low is {low}° C.\")\n",
    "    return data\n"
   ]
  },
  {
   "cell_type": "code",
   "execution_count": 35,
   "metadata": {},
   "outputs": [
    {
     "name": "stdout",
     "output_type": "stream",
     "text": [
      "The weather in Chennai is 303° C with few clouds.\n",
      "It feels like 310° C.\n",
      "Today's high is 303° C and today's low is 303° C.\n",
      "{'coord': {'lon': 80.2785, 'lat': 13.0878}, 'weather': [{'id': 801, 'main': 'Clouds', 'description': 'few clouds', 'icon': '02n'}], 'base': 'stations', 'main': {'temp': 303.14, 'feels_like': 310.14, 'temp_min': 303.14, 'temp_max': 303.14, 'pressure': 1008, 'humidity': 84}, 'visibility': 7000, 'wind': {'speed': 3.6, 'deg': 160}, 'clouds': {'all': 20}, 'dt': 1712241556, 'sys': {'type': 1, 'id': 9218, 'country': 'IN', 'sunrise': 1712190770, 'sunset': 1712235028}, 'timezone': 19800, 'id': 1264527, 'name': 'Chennai', 'cod': 200}\n"
     ]
    }
   ],
   "source": [
    "place=input(\"Enter the place name : \")\n",
    "data=get_loc_weather(place)\n",
    "print(data.json())"
   ]
  },
  {
   "cell_type": "code",
   "execution_count": null,
   "metadata": {},
   "outputs": [],
   "source": []
  },
  {
   "cell_type": "code",
   "execution_count": null,
   "metadata": {},
   "outputs": [],
   "source": []
  },
  {
   "cell_type": "code",
   "execution_count": 36,
   "metadata": {},
   "outputs": [],
   "source": [
    "class Get_weather:\n",
    "    def __init__(self):\n",
    "        pass\n",
    "\n",
    "    # Get the current weather data for a location\n",
    "\n",
    "    def get_loc_weather(self):\n",
    "        place=input(\"Enter the place name : \")\n",
    "        url = f'http://api.openweathermap.org/data/2.5/weather?q={place}&appid={api}'\n",
    "        data = requests.get(url)\n",
    "        description = data.json()['weather'][0]['description']\n",
    "        temperature = round(data.json()['main']['temp'])\n",
    "        feels_like = round(data.json()['main']['feels_like'])\n",
    "        high = round(data.json()['main']['temp_max'])\n",
    "        low = round(data.json()['main']['temp_min'])\n",
    "\n",
    "        print(f\"The weather in {place[0].upper()}{place[1:]} is {temperature}° K with {description}.\")\n",
    "        print(f\"It feels like {feels_like}° K.\")\n",
    "        print(f\"Today's high is {high}° K and today's low is {low}° K.\")\n",
    "        # return data\n",
    "    \n",
    "    \n",
    "    # end of current weather data of specific location\n",
    "    \n",
    "    \n",
    "    # Start of temperature conversion\n",
    "    \n",
    "    \n",
    "    def change_degree(self):\n",
    "        import re\n",
    "        temp_given = input(\"Enter the temperature (e.g., 200K, 200F, 200C): \")\n",
    "        match = re.match(r'(\\d+)([kKfFcC])', temp_given)\n",
    "        if match:\n",
    "            temperature = float(match.group(1))\n",
    "            unit = match.group(2).lower()\n",
    "\n",
    "            # Converting temperature based on the unit\n",
    "            if unit == 'k':\n",
    "                temp_celsius = temperature - 273.15\n",
    "                temp_fahrenheit = (temperature - 273.15) * 9/5 + 32\n",
    "            elif unit == 'f':\n",
    "                temp_celsius = (temperature - 32) * 5/9\n",
    "                temp_fahrenheit = temperature\n",
    "            elif unit == 'c':\n",
    "                temp_celsius = temperature\n",
    "                temp_fahrenheit = temperature * 9/5 + 32\n",
    "            else:\n",
    "                print(\"Invalid unit! Please specify 'K', 'F', or 'C'.\")\n",
    "                return\n",
    "\n",
    "            temp_kelvin = temp_celsius + 273.15\n",
    "\n",
    "            print(f\"Temperature in Celsius: {temp_celsius}\")\n",
    "            print(f\"Temperature in Fahrenheit: {temp_fahrenheit}\")\n",
    "            print(f\"Temperature in Kelvin: {temp_kelvin}\")\n",
    "        else:\n",
    "            print(\"Invalid input format! Please use the format like '200K', '200F', or '200C'.\")\n",
    "            \n",
    "    # end of temperature conversion \n",
    "        \n",
    "    \n",
    "    \n",
    "    # Get the weather forecast data for a location\n",
    "    \n",
    "    def get_weather_forecast_data(location, num_days=5):\n",
    "    \n",
    "        try:\n",
    "            # Request weather forecast data from OpenWeatherMap API\n",
    "            result = requests.get(f'http://api.openweathermap.org/data/2.5/forecast?q={location}&units=metric&cnt={num_days*8}&appid={api}')\n",
    "\n",
    "            # Check if the request was successful\n",
    "            if result.status_code != 200:\n",
    "                print(\"Failed to retrieve weather forecast data. Please try again.\")\n",
    "                exit()\n",
    "\n",
    "            # Parse the JSON response\n",
    "            weather_data = result.json()\n",
    "\n",
    "            # Check if the location is valid\n",
    "            if weather_data.get('cod') == '404':\n",
    "                print(\"Invalid location! Please try again.\")\n",
    "                exit()\n",
    "\n",
    "            return weather_data\n",
    "        except requests.exceptions.RequestException as e:\n",
    "            print(\"Error occurred:\", e)\n",
    "            exit()\n",
    "\n",
    "        # end of weather forecast data for a location\n",
    "    def get_weather_forecast_input(self):\n",
    "        location = input(\"Location: \")\n",
    "        num_days = int(input(\"Number of days for forecast: \"))\n",
    "        weather_data = Get_weather.get_weather_forecast_data(location, num_days)\n",
    "        \n",
    "        # Initialize a dictionary to store weather data for each day\n",
    "        daily_weather = {}\n",
    "\n",
    "        # Extract weather information from the API response for each forecasted period\n",
    "        for forecast in weather_data['list']:\n",
    "            date_time = forecast['dt_txt']\n",
    "            date = date_time.split()[0]  # Extract only the date part\n",
    "            \n",
    "            # Add weather data for the current day to the daily_weather dictionary\n",
    "            if date not in daily_weather:\n",
    "                daily_weather[date] = {\n",
    "                    'temperature': round(forecast['main']['temp']),\n",
    "                    'description': forecast['weather'][0]['description'],\n",
    "                    'feels_like': round(forecast['main']['feels_like']),\n",
    "                    'high': round(forecast['main']['temp_max']),\n",
    "                    'low': round(forecast['main']['temp_min'])\n",
    "                }\n",
    "\n",
    "        # Print the weather information for each day\n",
    "        for date, data in daily_weather.items():\n",
    "            print(f\"Date: {date}\")\n",
    "            print(f\"The weather in {location.capitalize()} is {data['temperature']}°C with {data['description']}.\")\n",
    "            print(\"-\" * 30)\n"
   ]
  },
  {
   "cell_type": "code",
   "execution_count": 37,
   "metadata": {},
   "outputs": [],
   "source": [
    "weather=Get_weather()"
   ]
  },
  {
   "cell_type": "code",
   "execution_count": 38,
   "metadata": {},
   "outputs": [
    {
     "name": "stdout",
     "output_type": "stream",
     "text": [
      "The weather in Chennai is 303° K with few clouds.\n",
      "It feels like 310° K.\n",
      "Today's high is 303° K and today's low is 303° K.\n"
     ]
    }
   ],
   "source": [
    "weather.get_loc_weather()"
   ]
  },
  {
   "cell_type": "code",
   "execution_count": 39,
   "metadata": {},
   "outputs": [
    {
     "name": "stdout",
     "output_type": "stream",
     "text": [
      "Temperature in Celsius: 100.0\n",
      "Temperature in Fahrenheit: 212.0\n",
      "Temperature in Kelvin: 373.15\n"
     ]
    }
   ],
   "source": [
    "weather.change_degree()"
   ]
  },
  {
   "cell_type": "code",
   "execution_count": 40,
   "metadata": {},
   "outputs": [
    {
     "name": "stdout",
     "output_type": "stream",
     "text": [
      "Date: 2024-04-04\n",
      "The weather in Usa is 23°C with moderate rain.\n",
      "------------------------------\n",
      "Date: 2024-04-05\n",
      "The weather in Usa is 19°C with light rain.\n",
      "------------------------------\n",
      "Date: 2024-04-06\n",
      "The weather in Usa is 20°C with light rain.\n",
      "------------------------------\n",
      "Date: 2024-04-07\n",
      "The weather in Usa is 19°C with light rain.\n",
      "------------------------------\n",
      "Date: 2024-04-08\n",
      "The weather in Usa is 20°C with light rain.\n",
      "------------------------------\n"
     ]
    }
   ],
   "source": [
    "weather.get_weather_forecast_input()"
   ]
  },
  {
   "cell_type": "code",
   "execution_count": null,
   "metadata": {},
   "outputs": [],
   "source": []
  }
 ],
 "metadata": {
  "kernelspec": {
   "display_name": "common",
   "language": "python",
   "name": "python3"
  },
  "language_info": {
   "codemirror_mode": {
    "name": "ipython",
    "version": 3
   },
   "file_extension": ".py",
   "mimetype": "text/x-python",
   "name": "python",
   "nbconvert_exporter": "python",
   "pygments_lexer": "ipython3",
   "version": "3.11.5"
  }
 },
 "nbformat": 4,
 "nbformat_minor": 2
}
